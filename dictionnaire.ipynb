{
 "cells": [
  {
   "cell_type": "markdown",
   "metadata": {},
   "source": [
    "# Revisions dictionnaire et algorithmes de base"
   ]
  },
  {
   "cell_type": "markdown",
   "metadata": {},
   "source": [
    "Voici quelques fonctions qu'il faut ABSOLUEMENT SAVOIR ECRIRE. A chaque fois, l'énoncé puis la correction à la fin."
   ]
  },
  {
   "cell_type": "markdown",
   "metadata": {},
   "source": [
    "1. Ecris l'instruction qui permet de créer un nouveau dictionnaire, de nom mon_dico puis de le remplir avec les données suivantes :   \n",
    "Toto 10   \n",
    "Tata 15   \n",
    "Titi 12   \n",
    "Tutu 18   \n",
    "Tete 11   \n",
    "Tété 12   \n",
    "Tètè 10\n",
    "Tyty 11"
   ]
  },
  {
   "cell_type": "code",
   "execution_count": null,
   "metadata": {},
   "outputs": [],
   "source": []
  },
  {
   "cell_type": "markdown",
   "metadata": {},
   "source": [
    "Correction si nécessaire :"
   ]
  },
  {
   "cell_type": "code",
   "execution_count": null,
   "metadata": {},
   "outputs": [],
   "source": [
    "mon_dico = {\"Toto\": 10,\"Tata\" : 15 ,\"Titi\": 12 ,\"Tutu\": 18 ,\"Tete\": 11 ,\"Tété\": 12,\"Tètè\": 10,\"Tyty\": 11}"
   ]
  },
  {
   "cell_type": "markdown",
   "metadata": {},
   "source": [
    "## 1. Occurence  \n",
    "Ecris une fonction occurence(dico,n) qui renvoie le nombre de fois où la valeur n apparait. (le nombre de fois où n apparait en tant que valeur)"
   ]
  },
  {
   "cell_type": "code",
   "execution_count": null,
   "metadata": {},
   "outputs": [],
   "source": []
  },
  {
   "cell_type": "markdown",
   "metadata": {},
   "source": [
    "## 2. max des valeurs  \n",
    "Ecris une fonction max_valeur(dic) qui renvoie la valeur la plus grande d'un dictionnaire\n"
   ]
  },
  {
   "cell_type": "code",
   "execution_count": null,
   "metadata": {},
   "outputs": [],
   "source": []
  },
  {
   "cell_type": "markdown",
   "metadata": {},
   "source": [
    "## 3. clé associée à la valeur la plus grande\n",
    "Ecris une fonction cle_max_valeur(dic) qui renvoie la clé associée à la plus grande valeur d'un dictionnaire (ou une des clés associée à la plus grande valeur, si la valeur apparait plusieurs fois)"
   ]
  },
  {
   "cell_type": "code",
   "execution_count": null,
   "metadata": {},
   "outputs": [],
   "source": []
  },
  {
   "cell_type": "markdown",
   "metadata": {},
   "source": [
    "## 4. création d'un dictionnaire des occurences d'un dictionnaire\n",
    "Ecris une fonction dico_occurence qui renvoie un dictionnaire contenant comme clés les valeurs d'un dictionnaire passé en paramétre, et comme valeur les occurences de cette valeur.   \n",
    "Pour le dictionnaire donné en exemple le dictionnaire suivant doit être renvoyé : {10: 2, 15: 1, 12: 2, 18: 1, 11: 2}\n",
    "Car la valeur 10 apparait 2 fois, la valeur 15 apparait 1 fois, la valeur 12 apparait 2 fois....\n"
   ]
  },
  {
   "cell_type": "code",
   "execution_count": null,
   "metadata": {},
   "outputs": [],
   "source": []
  },
  {
   "cell_type": "markdown",
   "metadata": {},
   "source": [
    "## 5. somme des valeurs\n",
    "Ecris une fonction somme(dico) qui renvoie la somme des valeurs d'un disctionnaire."
   ]
  },
  {
   "cell_type": "code",
   "execution_count": null,
   "metadata": {},
   "outputs": [],
   "source": []
  },
  {
   "cell_type": "markdown",
   "metadata": {},
   "source": [
    "## 6. moyenne des valeurs d'un dictionnaire\n",
    "Ecris une fonction somme(dico) qui renvoie la moyenne des valeurs d'un disctionnaire."
   ]
  },
  {
   "cell_type": "code",
   "execution_count": null,
   "metadata": {},
   "outputs": [],
   "source": []
  },
  {
   "cell_type": "markdown",
   "metadata": {},
   "source": [
    "# CORRECTION"
   ]
  },
  {
   "cell_type": "markdown",
   "metadata": {},
   "source": [
    "## 1. Occurence  \n",
    "Ecris une fonction occurence(dico,n) qui renvoie le nombre de fois où la valeur n apparait. (le nombre de fois où n apparait en tant que valeur)"
   ]
  },
  {
   "cell_type": "code",
   "execution_count": null,
   "metadata": {},
   "outputs": [],
   "source": [
    "def occurence(dico,n) :\n",
    "    nbre = 0\n",
    "    for v in dico.values():\n",
    "        if v ==n :\n",
    "            nbre +=1\n",
    "    return nbre"
   ]
  },
  {
   "cell_type": "markdown",
   "metadata": {},
   "source": [
    "on appelle cette fonction avec le dictionnaire mon_dico et la valeur 11 :"
   ]
  },
  {
   "cell_type": "code",
   "execution_count": null,
   "metadata": {},
   "outputs": [],
   "source": [
    "occurence(mon_dico,11)"
   ]
  },
  {
   "cell_type": "markdown",
   "metadata": {},
   "source": [
    "## 2. max des valeurs  \n",
    "Ecris une fonction max_valeur(dic) qui renvoie la valeur la plus grande d'un dictionnaire\n"
   ]
  },
  {
   "cell_type": "code",
   "execution_count": null,
   "metadata": {},
   "outputs": [],
   "source": [
    "def max_valeur(dico):\n",
    "    max = 0\n",
    "    for v in dico.values():\n",
    "        if v >max :\n",
    "            max = v\n",
    "    return max\n",
    "    "
   ]
  },
  {
   "cell_type": "markdown",
   "metadata": {},
   "source": [
    "on appelle cette fonction avec le dictionnaire mon_dico"
   ]
  },
  {
   "cell_type": "code",
   "execution_count": null,
   "metadata": {},
   "outputs": [],
   "source": [
    "max_valeur(mon_dico)"
   ]
  },
  {
   "cell_type": "markdown",
   "metadata": {},
   "source": [
    "## 3. clé associée à la valeur la plus grande\n",
    "Ecris une fonction cle_max_valeur(dic) qui renvoie la clé associée à la plus grande valeur d'un dictionnaire (ou une des clés associée à la plus grande valeur, si la valeur apparait plusieurs fois)"
   ]
  },
  {
   "cell_type": "code",
   "execution_count": null,
   "metadata": {},
   "outputs": [],
   "source": [
    "def cle_max_valeur(dico):\n",
    "    max = 0\n",
    "    cle_max =\"\"\n",
    "    for k,v in dico.items():\n",
    "        if v >max :\n",
    "            max = v\n",
    "            cle_max = k\n",
    "    return cle_max"
   ]
  },
  {
   "cell_type": "markdown",
   "metadata": {},
   "source": [
    "on appelle cette fonction avec le dictionnaire mon_dico"
   ]
  },
  {
   "cell_type": "code",
   "execution_count": null,
   "metadata": {},
   "outputs": [],
   "source": [
    "cle_max_valeur(mon_dico)"
   ]
  },
  {
   "cell_type": "markdown",
   "metadata": {},
   "source": [
    "## 4. création d'un dictionnaire des occurences d'un dictionnaire\n",
    "Ecris une fonction dico_occurence qui renvoie un dictionnaire contenant comme clés les valeurs d'un dictionnaire passé en paramétre, et comme valeur les occurences de cette valeur.   \n",
    "Pour le dictionnaire donné en exemple le dictionnaire suivant doit être renvoyé : {10: 2, 15: 1, 12: 2, 18: 1, 11: 2}\n",
    "Car la valeur 10 apparait 2 fois, la valeur 15 apparait 1 fois, la valeur 12 apparait 2 fois....\n"
   ]
  },
  {
   "cell_type": "code",
   "execution_count": null,
   "metadata": {},
   "outputs": [],
   "source": [
    "def dico_occurence (dico):\n",
    "    dicOccurences = {}\n",
    "    for k, v in dico.items():\n",
    "        if v not in dicOccurences.keys() :\n",
    "            dicOccurences[v]=1\n",
    "            print (\"ok\")\n",
    "        else :\n",
    "            dicOccurences[v]=dicOccurences[v]+1\n",
    "            print (\"odfdf\")\n",
    "    return dicOccurences\n",
    "            "
   ]
  },
  {
   "cell_type": "code",
   "execution_count": null,
   "metadata": {},
   "outputs": [],
   "source": [
    "dico_occurence (mon_dico)"
   ]
  },
  {
   "cell_type": "markdown",
   "metadata": {},
   "source": [
    "## 5. somme des valeurs\n",
    "Ecris une fonction somme(dico) qui renvoie la somme des valeurs d'un disctionnaire."
   ]
  },
  {
   "cell_type": "code",
   "execution_count": null,
   "metadata": {},
   "outputs": [],
   "source": [
    "def somme(dico):\n",
    "    somme = 0\n",
    "    for v in dico.values():\n",
    "        somme += v\n",
    "    return somme\n"
   ]
  },
  {
   "cell_type": "markdown",
   "metadata": {},
   "source": [
    "on appelle cette fonction avec le dictionnaire mon_dico"
   ]
  },
  {
   "cell_type": "code",
   "execution_count": null,
   "metadata": {},
   "outputs": [],
   "source": [
    "somme(mon_dico)"
   ]
  },
  {
   "cell_type": "markdown",
   "metadata": {},
   "source": [
    "## 6. moyenne des valeurs d'un dictionnaire\n",
    "Ecris une fonction somme(dico) qui renvoie la moyenne des valeurs d'un disctionnaire."
   ]
  },
  {
   "cell_type": "code",
   "execution_count": null,
   "metadata": {},
   "outputs": [],
   "source": [
    "def moyenne(dico):\n",
    "    somme = 0\n",
    "    for v in dico.values():\n",
    "        somme += v\n",
    "    \n",
    "    return somme/len(dico)"
   ]
  },
  {
   "cell_type": "markdown",
   "metadata": {},
   "source": [
    "on appelle cette fonction avec le dictionnaire mon_dico"
   ]
  },
  {
   "cell_type": "code",
   "execution_count": null,
   "metadata": {},
   "outputs": [],
   "source": [
    "moyenne(mon_dico)"
   ]
  }
 ],
 "metadata": {
  "kernelspec": {
   "display_name": "Python 3",
   "language": "python",
   "name": "python3"
  },
  "language_info": {
   "codemirror_mode": {
    "name": "ipython",
    "version": 3
   },
   "file_extension": ".py",
   "mimetype": "text/x-python",
   "name": "python",
   "nbconvert_exporter": "python",
   "pygments_lexer": "ipython3",
   "version": "3.6.6"
  }
 },
 "nbformat": 4,
 "nbformat_minor": 2
}
